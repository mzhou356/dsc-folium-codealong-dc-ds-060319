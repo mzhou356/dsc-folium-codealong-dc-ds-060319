{
 "cells": [
  {
   "cell_type": "markdown",
   "metadata": {},
   "source": [
    "# Folium - Codealong\n",
    "\n",
    "## Introduction \n",
    "\n",
    "In this codealong, we'll take a look at how to create an interactive map using the Folium package. From there, we'll return to APIs in the final lab for the day where you'll make an interactive map from your requests to the API!\n",
    "\n",
    "## Objectives\n",
    "\n",
    "You will be able to: \n",
    "* Create maps with Folium"
   ]
  },
  {
   "cell_type": "markdown",
   "metadata": {},
   "source": [
    "## Creating a Basemap\n",
    "\n",
    "Here we'll take a look at creating a basemap over the London region!"
   ]
  },
  {
   "cell_type": "code",
   "execution_count": 1,
   "metadata": {
    "scrolled": false
   },
   "outputs": [
    {
     "data": {
      "text/html": [
       "<div style=\"width:100%;\"><div style=\"position:relative;width:100%;height:0;padding-bottom:60%;\"><iframe src=\"data:text/html;charset=utf-8;base64,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\" style=\"position:absolute;width:100%;height:100%;left:0;top:0;border:none !important;\" allowfullscreen webkitallowfullscreen mozallowfullscreen></iframe></div></div>"
      ],
      "text/plain": [
       "<folium.folium.Map at 0x7f4a60370c88>"
      ]
     },
     "execution_count": 1,
     "metadata": {},
     "output_type": "execute_result"
    }
   ],
   "source": [
    "import folium\n",
    "\n",
    "lat = 51.51\n",
    "long = -0.14\n",
    "\n",
    "#Create a map of the area\n",
    "base_map = folium.Map([lat, long], zoom_start=13)\n",
    "base_map"
   ]
  },
  {
   "cell_type": "markdown",
   "metadata": {},
   "source": [
    "## Adding Markers to the Map\n",
    "\n",
    "Great! Now let's take a look at adding little markers to our map!\n",
    "\n",
    "**Note:** you may have to zoom out to see all of the markers!"
   ]
  },
  {
   "cell_type": "code",
   "execution_count": 2,
   "metadata": {},
   "outputs": [
    {
     "data": {
      "text/html": [
       "<div style=\"width:100%;\"><div style=\"position:relative;width:100%;height:0;padding-bottom:60%;\"><iframe src=\"data:text/html;charset=utf-8;base64,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\" style=\"position:absolute;width:100%;height:100%;left:0;top:0;border:none !important;\" allowfullscreen webkitallowfullscreen mozallowfullscreen></iframe></div></div>"
      ],
      "text/plain": [
       "<folium.folium.Map at 0x7f4a60370c88>"
      ]
     },
     "execution_count": 2,
     "metadata": {},
     "output_type": "execute_result"
    }
   ],
   "source": [
    "import numpy as np\n",
    "\n",
    "#Generate some random locations to add to our map\n",
    "x = [lat + np.random.uniform(-.1,.1) for i in range(20)]\n",
    "y = [long + np.random.uniform(-.1,.1) for i in range(20)]\n",
    "points = list(zip(x, y))\n",
    "for p in points:\n",
    "    lat = p[0]\n",
    "    long = p[1]\n",
    "    marker = folium.Marker(location=[lat, long])\n",
    "    marker.add_to(base_map)\n",
    "base_map"
   ]
  },
  {
   "cell_type": "markdown",
   "metadata": {},
   "source": [
    "## Adding Pop-up Boxes to Our Markers\n",
    "\n",
    "Often we may wish to not only place markers on the map, but to create interactive pop-ups which display information to that location. To do this, we can add a popup to our markers when adding them to the map! "
   ]
  },
  {
   "cell_type": "code",
   "execution_count": 4,
   "metadata": {},
   "outputs": [],
   "source": [
    "for p in points:\n",
    "    lat = p[0]\n",
    "    long = p[1]\n",
    "    popup_text = \"Latitude: {}, Longitude: {}\".format(lat,long)\n",
    "    popup = folium.Popup(popup_text, parse_html=True)\n",
    "    marker = folium.Marker(location=[lat, long], popup=popup)\n",
    "    marker.add_to(base_map)\n",
    "# base_map"
   ]
  },
  {
   "cell_type": "markdown",
   "metadata": {},
   "source": [
    "Now, if you click on the map markers, you should see a little information box pop up!\n",
    "\n",
    "## Summary \n",
    "\n",
    "In this codealong, we learned how to use Folium to create some cool interactive maps with only a few lines of python code! In the next lab, you'll synthesize your skills for the day together and create an interactive visualization map for data you retrieve from the Yelp API!"
   ]
  }
 ],
 "metadata": {
  "kernelspec": {
   "display_name": "Python 3",
   "language": "python",
   "name": "python3"
  },
  "language_info": {
   "codemirror_mode": {
    "name": "ipython",
    "version": 3
   },
   "file_extension": ".py",
   "mimetype": "text/x-python",
   "name": "python",
   "nbconvert_exporter": "python",
   "pygments_lexer": "ipython3",
   "version": "3.6.6"
  }
 },
 "nbformat": 4,
 "nbformat_minor": 2
}
